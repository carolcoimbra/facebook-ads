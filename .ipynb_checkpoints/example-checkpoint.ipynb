{
 "cells": [
  {
   "cell_type": "markdown",
   "metadata": {},
   "source": [
    "# FACEBOOK ADS\n",
    "\n",
    "#### For more information you can check the link below:\n",
    "#### https://developers.facebook.com/docs/marketing-api/targeting-search/"
   ]
  },
  {
   "cell_type": "code",
   "execution_count": 1,
   "metadata": {},
   "outputs": [],
   "source": [
    "# -*- coding: utf-8 -*-\n",
    "__author__ = \"Filipe Ribeiro/Carolina Coimbra\"\n",
    "\n",
    "from facebookads.adobjects.adaccount import AdAccount\n",
    "from facebookads.adobjects.adset import AdSet\n",
    "from facebookads.adobjects.targetingsearch import TargetingSearch\n",
    "from facebookads.api import FacebookAdsApi\n",
    "from facebookads.exceptions import FacebookError\n",
    "\n",
    "import numpy as np\n",
    "import matplotlib.pyplot as plt\n",
    "import time"
   ]
  },
  {
   "cell_type": "markdown",
   "metadata": {},
   "source": [
    "## FUNCTIONS TO MAKE REQUESTS"
   ]
  },
  {
   "cell_type": "code",
   "execution_count": 2,
   "metadata": {},
   "outputs": [],
   "source": [
    "# Initialize the account\n",
    "def get_ad_account(token, act_id, secret):\n",
    "\n",
    "    if secret != '-':\n",
    "        facebook_api = FacebookAdsApi.init(access_token=token, app_secret=secret, api_version='v3.3')\n",
    "    else:\n",
    "        facebook_api = FacebookAdsApi.init(access_token=token, api_version='v3.3')\n",
    "\n",
    "    account = AdAccount('act_' + act_id)\n",
    "    \n",
    "    return facebook_api, account"
   ]
  },
  {
   "cell_type": "code",
   "execution_count": 3,
   "metadata": {},
   "outputs": [],
   "source": [
    "# Return the audience for a specific target\n",
    "def make_request(account, targeting_spec):\n",
    "    api_params = {\n",
    "        'targeting_spec': targeting_spec\n",
    "    }\n",
    "    \n",
    "    reach_estimate = account.get_reach_estimate(params=api_params)\n",
    "    number = reach_estimate[0]['users']\n",
    "    return number"
   ]
  },
  {
   "cell_type": "code",
   "execution_count": 4,
   "metadata": {},
   "outputs": [],
   "source": [
    "# Return the interest id\n",
    "def getInterestIDFromText(api, text, limit=10):\n",
    "    params = {\n",
    "        'q': text,        \n",
    "        'type': 'adinterest',\n",
    "        'limit': limit,        \n",
    "    }\n",
    "    \n",
    "    resp = TargetingSearch.search(params=params, api=api)\n",
    "    return resp"
   ]
  },
  {
   "cell_type": "code",
   "execution_count": 5,
   "metadata": {},
   "outputs": [],
   "source": [
    "# Return the location key\n",
    "def getLocationElement(api, element, location_type=\"country\"):   \n",
    "    params = {\n",
    "        'q': element,\n",
    "        'type': 'adgeolocation',\n",
    "#       'location_types': ['city'] OR ['region'] OR ['country'] OR ['country_group'],\n",
    "        'location_types': [location_type],\n",
    "#       'countries': ['US']\n",
    "    }\n",
    "    \n",
    "    responses = TargetingSearch.search(params=params, api=api)\n",
    "    return responses"
   ]
  },
  {
   "cell_type": "code",
   "execution_count": 6,
   "metadata": {},
   "outputs": [],
   "source": [
    "# Return a dictionary with the informations abount the interests\n",
    "def testInterestSearch(api, list_of_interests_to_search): \n",
    "    \n",
    "    print(\"interest_id \\t name \\t audience_size \\t type\")\n",
    "       \n",
    "    interests_dict = dict()\n",
    "\n",
    "    for interest in list_of_interests_to_search:\n",
    "        search_result = getInterestIDFromText(api, interest)\n",
    "         \n",
    "        for element in search_result: \n",
    "            #Consider just if the names is exactly the same!\n",
    "            if interest.lower() == element[\"name\"].lower():\n",
    "                e_id = element[\"id\"]\n",
    "                e_name = interest\n",
    "                e_audience = element[\"audience_size\"]\n",
    "                \n",
    "                #not all responses have a topic and category defined. \n",
    "                try:\n",
    "                    e_type = element[\"topic\"]\n",
    "                except:\n",
    "                    e_type = \"\"\n",
    "                interests_dict[e_name] = {\"id\": e_id, \"audience\": e_audience, \"type\": e_type}\n",
    "\n",
    "                print (str(e_id) + \"\\t\" + str(e_name) + \"\\t\" + str(e_audience) + \"\\t\" + str(e_type))\n",
    "            \n",
    "                break\n",
    "          \n",
    "    return interests_dict\n"
   ]
  },
  {
   "cell_type": "code",
   "execution_count": 7,
   "metadata": {},
   "outputs": [],
   "source": [
    "# Return a dictionary with the informations abount the locations\n",
    "def testSearchForLocationCode(api, list_of_locations_and_types_to_search):\n",
    "    #available location types: country, country_group, region, city,\n",
    "\n",
    "    print(\"key \\t name \\t location_type\")\n",
    "    \n",
    "    locations_dict = dict()\n",
    "    \n",
    "    for location, l_type in list_of_locations_and_types_to_search:\n",
    "        search_result = getLocationElement(api, location, location_type = l_type)  \n",
    "        \n",
    "        for element in search_result:\n",
    "            if location == element[\"name\"]:\n",
    "                e_key = element[\"key\"]\n",
    "                e_name = element[\"name\"]\n",
    "                e_type = element[\"type\"]\n",
    "\n",
    "                locations_dict[e_name] = {\"key\": e_key, \"type\": e_type}\n",
    "\n",
    "                print (str(e_key) + \"\\t\" + str(e_name) + \"\\t\" + str(e_type))\n",
    "            \n",
    "            break        \n",
    "            \n",
    "    return locations_dict"
   ]
  },
  {
   "cell_type": "markdown",
   "metadata": {},
   "source": [
    "## INITIALIZE YOUR ACCOUNT"
   ]
  },
  {
   "cell_type": "code",
   "execution_count": 8,
   "metadata": {},
   "outputs": [],
   "source": [
    "#COMPLETE YOUT TOKEN\n",
    "token = \"YOUR TOKEN HERE\"\n",
    "#COMPLETE YOUR ACT ID\n",
    "act_id = \"YOUR ACT ID HERE\"\n",
    "secret = \"-\"\n",
    "  \n",
    "facebook_api, account = get_ad_account(token, act_id, secret)"
   ]
  },
  {
   "cell_type": "code",
   "execution_count": null,
   "metadata": {},
   "outputs": [],
   "source": []
  },
  {
   "cell_type": "markdown",
   "metadata": {},
   "source": [
    "## EXAMPLES:"
   ]
  },
  {
   "cell_type": "markdown",
   "metadata": {},
   "source": [
    "### Collecting some interests id"
   ]
  },
  {
   "cell_type": "code",
   "execution_count": 10,
   "metadata": {},
   "outputs": [],
   "source": [
    "#In my case, the names are in Portuguese\n",
    "list_of_interests_to_search = ['feijoada', 'pretzel', 'pizza']"
   ]
  },
  {
   "cell_type": "code",
   "execution_count": 11,
   "metadata": {},
   "outputs": [
    {
     "name": "stdout",
     "output_type": "stream",
     "text": [
      "INTERESTS TO SEARCH:\n",
      "interest_id \t name \t audience_size \t type\n",
      "6003131205636\tfeijoada\t3836570\tFood and drink\n",
      "6003130694636\tpretzel\t5997490\tFood and drink\n",
      "6003668857118\tpizza\t406764630\tFood and drink\n"
     ]
    }
   ],
   "source": [
    "print(\"INTERESTS TO SEARCH:\")\n",
    "interests_dict = testInterestSearch(facebook_api, list_of_interests_to_search)"
   ]
  },
  {
   "cell_type": "code",
   "execution_count": 12,
   "metadata": {},
   "outputs": [
    {
     "data": {
      "text/plain": [
       "{'feijoada': {'id': '6003131205636',\n",
       "  'audience': 3836570,\n",
       "  'type': 'Food and drink'},\n",
       " 'pretzel': {'id': '6003130694636',\n",
       "  'audience': 5997490,\n",
       "  'type': 'Food and drink'},\n",
       " 'pizza': {'id': '6003668857118',\n",
       "  'audience': 406764630,\n",
       "  'type': 'Food and drink'}}"
      ]
     },
     "execution_count": 12,
     "metadata": {},
     "output_type": "execute_result"
    }
   ],
   "source": [
    "interests_dict"
   ]
  },
  {
   "cell_type": "markdown",
   "metadata": {},
   "source": [
    "### Collecting some locations key"
   ]
  },
  {
   "cell_type": "code",
   "execution_count": 13,
   "metadata": {},
   "outputs": [],
   "source": [
    "#In my case, the names are in Portuguese\n",
    "list_of_locations_to_search = [('Brasil', 'country'), ('Alemanha', 'country'), ('ItÃ¡lia', 'country')]"
   ]
  },
  {
   "cell_type": "code",
   "execution_count": 14,
   "metadata": {},
   "outputs": [
    {
     "name": "stdout",
     "output_type": "stream",
     "text": [
      "LOCATIONS TO SEARCH:\n",
      "key \t name \t location_type\n",
      "BR\tBrasil\tcountry\n",
      "DE\tAlemanha\tcountry\n",
      "IT\tItÃ¡lia\tcountry\n"
     ]
    }
   ],
   "source": [
    "print(\"LOCATIONS TO SEARCH:\")\n",
    "locations_dict = testSearchForLocationCode(facebook_api, list_of_locations_to_search)"
   ]
  },
  {
   "cell_type": "code",
   "execution_count": 15,
   "metadata": {},
   "outputs": [
    {
     "data": {
      "text/plain": [
       "{'Brasil': {'key': 'BR', 'type': 'country'},\n",
       " 'Alemanha': {'key': 'DE', 'type': 'country'},\n",
       " 'ItÃ¡lia': {'key': 'IT', 'type': 'country'}}"
      ]
     },
     "execution_count": 15,
     "metadata": {},
     "output_type": "execute_result"
    }
   ],
   "source": [
    "locations_dict"
   ]
  },
  {
   "cell_type": "code",
   "execution_count": null,
   "metadata": {},
   "outputs": [],
   "source": []
  },
  {
   "cell_type": "markdown",
   "metadata": {},
   "source": [
    "### Defining your target\n",
    "#### In this example we want all the Facebook users who are between 13 and 65+ years old."
   ]
  },
  {
   "cell_type": "code",
   "execution_count": 16,
   "metadata": {},
   "outputs": [],
   "source": [
    "targeting_spec = {\n",
    "    \"publisher_platforms\": [\"facebook\"], #facebook, instagram\n",
    "    \"facebook_positions\": [\"feed\"], #feed, right_hand_column, instream_video\n",
    "    \"age_min\": 13, #The min age default is 18, so I've changed to 13. The max age default is 65+\n",
    "    \"excluded_publisher_categories\": [],\n",
    "    \"excluded_publisher_list_ids\": [],\n",
    "    \"user_device\": [],\n",
    "    \"excluded_user_device\": [],\n",
    "    \"user_os\": [],\n",
    "    \"wireless_carrier\": [],\n",
    "    'behaviors': [],\n",
    "    'interests': [],\n",
    "    \"flexible_spec\": []        \n",
    "}"
   ]
  },
  {
   "cell_type": "markdown",
   "metadata": {},
   "source": [
    "### Collecting the audience in each country"
   ]
  },
  {
   "cell_type": "code",
   "execution_count": 17,
   "metadata": {},
   "outputs": [
    {
     "name": "stdout",
     "output_type": "stream",
     "text": [
      "Population in Brasil = 120000000\n",
      "Population in Alemanha = 28000000\n",
      "Population in ItÃ¡lia = 29000000\n"
     ]
    }
   ],
   "source": [
    "for location in locations_dict:\n",
    "    #Adding the information about the location of our target\n",
    "    if locations_dict[location][\"type\"] == \"country\":\n",
    "        targeting_spec[\"geo_locations\"] = {\"countries\":[locations_dict[location][\"key\"]]}\n",
    "    else:\n",
    "        targeting_spec[\"geo_locations\"] = {\"regions\":[{\"key\":locations_dict[location][\"key\"]}]}\n",
    "    \n",
    "    #We will not specify interests because we are interested on the country audience\n",
    "    targeting_spec[\"interests\"] = []\n",
    "        \n",
    "    audience_size = make_request(account,targeting_spec)\n",
    "    \n",
    "    print (\"Population in \" + str(location) + \" = \" + str(audience_size))\n",
    "    \n",
    "    locations_dict[location][\"audience\"] = audience_size"
   ]
  },
  {
   "cell_type": "code",
   "execution_count": 18,
   "metadata": {},
   "outputs": [
    {
     "data": {
      "text/plain": [
       "{'Brasil': {'key': 'BR', 'type': 'country', 'audience': 120000000},\n",
       " 'Alemanha': {'key': 'DE', 'type': 'country', 'audience': 28000000},\n",
       " 'ItÃ¡lia': {'key': 'IT', 'type': 'country', 'audience': 29000000}}"
      ]
     },
     "execution_count": 18,
     "metadata": {},
     "output_type": "execute_result"
    }
   ],
   "source": [
    "locations_dict"
   ]
  },
  {
   "cell_type": "markdown",
   "metadata": {},
   "source": [
    "### Collecting the audience in each interests for each country"
   ]
  },
  {
   "cell_type": "code",
   "execution_count": 19,
   "metadata": {},
   "outputs": [
    {
     "name": "stdout",
     "output_type": "stream",
     "text": [
      "Population in Brasil interested in feijoada = 3400000\n",
      "Population in Brasil interested in pretzel = 180000\n",
      "Population in Brasil interested in pizza = 38000000\n",
      "Population in Alemanha interested in feijoada = 3300\n",
      "Population in Alemanha interested in pretzel = 81000\n",
      "Population in Alemanha interested in pizza = 5200000\n",
      "Population in ItÃ¡lia interested in feijoada = 2200\n",
      "Population in ItÃ¡lia interested in pretzel = 93000\n",
      "Population in ItÃ¡lia interested in pizza = 14000000\n"
     ]
    }
   ],
   "source": [
    "dict_info = dict()\n",
    "\n",
    "for location in locations_dict:\n",
    "    \n",
    "    dict_info[location] = dict()\n",
    "    \n",
    "    #Adding the information about the location of our target\n",
    "    if locations_dict[location][\"type\"] == \"country\":\n",
    "        targeting_spec[\"geo_locations\"] = {\"countries\":[locations_dict[location][\"key\"]]}\n",
    "    else:\n",
    "        targeting_spec[\"geo_locations\"] = {\"regions\":[{\"key\":locations_dict[location][\"key\"]}]}\n",
    "\n",
    "    for interest in interests_dict:\n",
    "        #Adding the information about the interest we are looking for\n",
    "        targeting_spec[\"interests\"] = [interests_dict[interest][\"id\"]]\n",
    "\n",
    "        audience_size = make_request(account,targeting_spec)\n",
    "        \n",
    "        print (\"Population in \" + str(location) + \" interested in \" + str(interest) + \" = \" + str(audience_size))\n",
    "        \n",
    "        #Wait 2 seconds between requests\n",
    "        time.sleep(2)\n",
    "\n",
    "        dict_info[location][interest] = (audience_size, float(audience_size/float(locations_dict[location][\"audience\"])))"
   ]
  },
  {
   "cell_type": "code",
   "execution_count": 20,
   "metadata": {},
   "outputs": [
    {
     "data": {
      "text/plain": [
       "{'Brasil': {'feijoada': (3400000, 0.028333333333333332),\n",
       "  'pretzel': (180000, 0.0015),\n",
       "  'pizza': (38000000, 0.31666666666666665)},\n",
       " 'Alemanha': {'feijoada': (3300, 0.00011785714285714286),\n",
       "  'pretzel': (81000, 0.0028928571428571428),\n",
       "  'pizza': (5200000, 0.18571428571428572)},\n",
       " 'ItÃ¡lia': {'feijoada': (2200, 7.586206896551724e-05),\n",
       "  'pretzel': (93000, 0.003206896551724138),\n",
       "  'pizza': (14000000, 0.4827586206896552)}}"
      ]
     },
     "execution_count": 20,
     "metadata": {},
     "output_type": "execute_result"
    }
   ],
   "source": [
    "dict_info"
   ]
  },
  {
   "cell_type": "code",
   "execution_count": null,
   "metadata": {},
   "outputs": [],
   "source": []
  },
  {
   "cell_type": "markdown",
   "metadata": {},
   "source": [
    "### Plots"
   ]
  },
  {
   "cell_type": "code",
   "execution_count": 21,
   "metadata": {},
   "outputs": [
    {
     "data": {
      "image/png": "[encoded data removed]",
      "text/plain": [
       "<Figure size 432x288 with 1 Axes>"
      ]
     },
     "metadata": {
      "needs_background": "light"
     },
     "output_type": "display_data"
    },
    {
     "data": {
      "image/png": "[encoded data removed]",
      "text/plain": [
       "<Figure size 432x288 with 1 Axes>"
      ]
     },
     "metadata": {
      "needs_background": "light"
     },
     "output_type": "display_data"
    },
    {
     "data": {
      "image/png": "[encoded data removed]",
      "text/plain": [
       "<Figure size 432x288 with 1 Axes>"
      ]
     },
     "metadata": {
      "needs_background": "light"
     },
     "output_type": "display_data"
    }
   ],
   "source": [
    "x_int = range(len(interests_dict))\n",
    "x = interests_dict.keys()\n",
    "\n",
    "for location in dict_info:\n",
    "    y, y_norm = zip(*dict_info[location].values())\n",
    "    \n",
    "    plt.bar(range(len(dict_info[location])), y_norm)\n",
    "    \n",
    "    plt.title(location)\n",
    "    plt.xticks(x_int, x)\n",
    "    plt.xlabel(\"interests\")\n",
    "    plt.ylim((0,0.5))\n",
    "    plt.ylabel(\"audience_ic/audience_c\")\n",
    "    \n",
    "    plt.show()"
   ]
  },
  {
   "cell_type": "code",
   "execution_count": null,
   "metadata": {},
   "outputs": [],
   "source": []
  }
 ],
 "metadata": {
  "kernelspec": {
   "display_name": "Python 3",
   "language": "python",
   "name": "python3"
  },
  "language_info": {
   "codemirror_mode": {
    "name": "ipython",
    "version": 3
   },
   "file_extension": ".py",
   "mimetype": "text/x-python",
   "name": "python",
   "nbconvert_exporter": "python",
   "pygments_lexer": "ipython3",
   "version": "3.6.9"
  }
 },
 "nbformat": 4,
 "nbformat_minor": 2
}
