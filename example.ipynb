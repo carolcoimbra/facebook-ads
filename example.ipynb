{
 "cells": [
  {
   "cell_type": "markdown",
   "metadata": {},
   "source": [
    "# FACEBOOK ADS\n",
    "\n",
    "#### For more information you can check the link below:\n",
    "#### https://developers.facebook.com/docs/marketing-api/targeting-search/"
   ]
  },
  {
   "cell_type": "code",
   "execution_count": 1,
   "metadata": {},
   "outputs": [
    {
     "name": "stdout",
     "output_type": "stream",
     "text": [
      "Looking in indexes: https://pypi.org/simple, https://pypi.ngc.nvidia.com\n",
      "Requirement already satisfied: facebook-business in c:\\programdata\\anaconda3\\lib\\site-packages (16.0.1)\n",
      "Requirement already satisfied: curlify>=2.1.0 in c:\\programdata\\anaconda3\\lib\\site-packages (from facebook-business) (2.2.1)\n",
      "Requirement already satisfied: six>=1.7.3 in c:\\programdata\\anaconda3\\lib\\site-packages (from facebook-business) (1.16.0)\n",
      "Requirement already satisfied: pycountry>=19.8.18 in c:\\programdata\\anaconda3\\lib\\site-packages (from facebook-business) (22.3.5)\n",
      "Requirement already satisfied: aiohttp in c:\\programdata\\anaconda3\\lib\\site-packages (from facebook-business) (3.8.1)\n",
      "Requirement already satisfied: requests>=2.3.0 in c:\\programdata\\anaconda3\\lib\\site-packages (from facebook-business) (2.27.1)\n",
      "Requirement already satisfied: setuptools in c:\\programdata\\anaconda3\\lib\\site-packages (from pycountry>=19.8.18->facebook-business) (61.2.0)\n",
      "Requirement already satisfied: urllib3<1.27,>=1.21.1 in c:\\programdata\\anaconda3\\lib\\site-packages (from requests>=2.3.0->facebook-business) (1.26.9)\n",
      "Requirement already satisfied: charset-normalizer~=2.0.0 in c:\\programdata\\anaconda3\\lib\\site-packages (from requests>=2.3.0->facebook-business) (2.0.4)\n",
      "Requirement already satisfied: certifi>=2017.4.17 in c:\\programdata\\anaconda3\\lib\\site-packages (from requests>=2.3.0->facebook-business) (2021.10.8)\n",
      "Requirement already satisfied: idna<4,>=2.5 in c:\\programdata\\anaconda3\\lib\\site-packages (from requests>=2.3.0->facebook-business) (3.3)\n",
      "Requirement already satisfied: aiosignal>=1.1.2 in c:\\programdata\\anaconda3\\lib\\site-packages (from aiohttp->facebook-business) (1.2.0)\n",
      "Requirement already satisfied: multidict<7.0,>=4.5 in c:\\programdata\\anaconda3\\lib\\site-packages (from aiohttp->facebook-business) (5.1.0)\n",
      "Requirement already satisfied: frozenlist>=1.1.1 in c:\\programdata\\anaconda3\\lib\\site-packages (from aiohttp->facebook-business) (1.2.0)\n",
      "Requirement already satisfied: async-timeout<5.0,>=4.0.0a3 in c:\\programdata\\anaconda3\\lib\\site-packages (from aiohttp->facebook-business) (4.0.1)\n",
      "Requirement already satisfied: yarl<2.0,>=1.0 in c:\\programdata\\anaconda3\\lib\\site-packages (from aiohttp->facebook-business) (1.6.3)\n",
      "Requirement already satisfied: attrs>=17.3.0 in c:\\programdata\\anaconda3\\lib\\site-packages (from aiohttp->facebook-business) (21.4.0)\n",
      "Requirement already satisfied: typing-extensions>=3.6.5 in c:\\programdata\\anaconda3\\lib\\site-packages (from async-timeout<5.0,>=4.0.0a3->aiohttp->facebook-business) (4.1.1)\n",
      "Note: you may need to restart the kernel to use updated packages.\n"
     ]
    }
   ],
   "source": [
    "pip install facebook-business"
   ]
  },
  {
   "cell_type": "code",
   "execution_count": 2,
   "metadata": {},
   "outputs": [],
   "source": [
    "# -*- coding: utf-8 -*-\n",
    "__author__ = \"Carolina Coimbra\"\n",
    "\n",
    "from facebook_business.adobjects.adaccount import AdAccount\n",
    "from facebook_business.adobjects.adset import AdSet\n",
    "from facebook_business.adobjects.targetingsearch import TargetingSearch\n",
    "from facebook_business.api import FacebookAdsApi\n",
    "from facebook_business.exceptions import FacebookError\n",
    "from unicodedata import normalize\n",
    "\n",
    "import numpy as np\n",
    "import matplotlib.pyplot as plt\n",
    "import string\n",
    "import pandas as pd\n",
    "import time"
   ]
  },
  {
   "cell_type": "markdown",
   "metadata": {},
   "source": [
    "## FUNCTIONS TO MAKE REQUESTS"
   ]
  },
  {
   "cell_type": "code",
   "execution_count": 3,
   "metadata": {},
   "outputs": [],
   "source": [
    "# Initialize the account\n",
    "\n",
    "# PLEASE, UPDATE THE VERSION IF NECESSARY!\n",
    "\n",
    "def get_ad_account(token, act_id, secret):\n",
    "\n",
    "    if secret != '-':\n",
    "        facebook_api = FacebookAdsApi.init(access_token=token, app_secret=secret, api_version='v16.0') #version\n",
    "    else:\n",
    "        facebook_api = FacebookAdsApi.init(access_token=token, api_version='v16.0') #version\n",
    "\n",
    "    account = AdAccount('act_' + act_id)\n",
    "    \n",
    "    return facebook_api, account"
   ]
  },
  {
   "cell_type": "code",
   "execution_count": 4,
   "metadata": {},
   "outputs": [],
   "source": [
    "# Return the audience for a specific target\n",
    "def make_request(account, targeting_spec):\n",
    "    api_params = {\n",
    "        'targeting_spec': targeting_spec\n",
    "    }\n",
    "    \n",
    "    reach_estimate = account.get_reach_estimate(params=api_params)\n",
    "    number = reach_estimate[0]['users_lower_bound']\n",
    "    #number = reach_estimate[0]['users_upper_bound']\n",
    "    return number"
   ]
  },
  {
   "cell_type": "code",
   "execution_count": 5,
   "metadata": {},
   "outputs": [],
   "source": [
    "# Return the interest id\n",
    "def getInterestIDFromText(api, text, limit=10):\n",
    "    params = {\n",
    "        'q': text,        \n",
    "        'type': 'adinterest',\n",
    "        'limit': limit,        \n",
    "    }\n",
    "    \n",
    "    resp = TargetingSearch.search(params=params, api=api)\n",
    "    return resp"
   ]
  },
  {
   "cell_type": "code",
   "execution_count": 6,
   "metadata": {},
   "outputs": [],
   "source": [
    "# Return the location key\n",
    "def getLocationElement(api, element, location_type=\"country\"):   \n",
    "    params = {\n",
    "        'q': element,\n",
    "        'type': 'adgeolocation',\n",
    "#       'location_types': ['city'] OR ['region'] OR ['country'] OR ['country_group'],\n",
    "        'location_types': [location_type],\n",
    "#       'countries': ['US']\n",
    "    }\n",
    "    \n",
    "    responses = TargetingSearch.search(params=params, api=api)\n",
    "    return responses"
   ]
  },
  {
   "cell_type": "code",
   "execution_count": 7,
   "metadata": {},
   "outputs": [],
   "source": [
    "# Return a dictionary with the informations abount the interests\n",
    "def testInterestSearch(api, list_of_interests_to_search): \n",
    "    \n",
    "    print(\"interest_id \\t name \\t audience_size \\t type\")\n",
    "       \n",
    "    interests_dict = dict()\n",
    "\n",
    "    for interest in list_of_interests_to_search:\n",
    "        search_result = getInterestIDFromText(api, interest)\n",
    "         \n",
    "        for element in search_result: \n",
    "            #Consider just if the names is exactly the same!\n",
    "            if interest.lower() == element[\"name\"].lower():\n",
    "                e_id = element[\"id\"]\n",
    "                e_name = interest\n",
    "                e_audience = element[\"audience_size_lower_bound\"]\n",
    "                #e_audience = element[\"audience_size_upper_bound\"]\n",
    "                \n",
    "                #not all responses have a topic and category defined. \n",
    "                try:\n",
    "                    e_type = element[\"topic\"]\n",
    "                except:\n",
    "                    e_type = \"\"\n",
    "                interests_dict[e_name] = {\"id\": e_id, \"audience\": e_audience, \"type\": e_type}\n",
    "\n",
    "                print (str(e_id) + \"\\t\" + str(e_name) + \"\\t\" + str(e_audience) + \"\\t\" + str(e_type))\n",
    "            \n",
    "                break\n",
    "          \n",
    "    return interests_dict\n"
   ]
  },
  {
   "cell_type": "code",
   "execution_count": 8,
   "metadata": {},
   "outputs": [],
   "source": [
    "# Return a dictionary with the informations abount the locations\n",
    "def testSearchForLocationCode(api, list_of_locations_and_types_to_search):\n",
    "    #available location types: country, country_group, region, city,\n",
    "\n",
    "    print(\"key \\t name \\t location_type\")\n",
    "    \n",
    "    locations_dict = dict()\n",
    "    \n",
    "    for location, l_type in list_of_locations_and_types_to_search:\n",
    "        search_result = getLocationElement(api, location, location_type = l_type)  \n",
    "        \n",
    "        for element in search_result:\n",
    "            if location == element[\"name\"]:\n",
    "                e_key = element[\"key\"]\n",
    "                e_name = element[\"name\"]\n",
    "                e_type = element[\"type\"]\n",
    "\n",
    "                locations_dict[e_name] = {\"key\": e_key, \"type\": e_type}\n",
    "\n",
    "                print (str(e_key) + \"\\t\" + str(e_name) + \"\\t\" + str(e_type))\n",
    "            \n",
    "            break        \n",
    "            \n",
    "    return locations_dict"
   ]
  },
  {
   "cell_type": "markdown",
   "metadata": {},
   "source": [
    "## INITIALIZE YOUR ACCOUNT"
   ]
  },
  {
   "cell_type": "code",
   "execution_count": 9,
   "metadata": {},
   "outputs": [],
   "source": [
    "import pandas as pd"
   ]
  },
  {
   "cell_type": "code",
   "execution_count": 10,
   "metadata": {},
   "outputs": [],
   "source": [
    "df = pd.read_csv(\"C:/Users/coimbravieira/token_fb.txt\")"
   ]
  },
  {
   "cell_type": "code",
   "execution_count": 11,
   "metadata": {},
   "outputs": [],
   "source": [
    "#COMPLETE YOUT TOKEN\n",
    "token = \"YOUR TOKEN HERE\"\n",
    "#COMPLETE YOUR ACT ID\n",
    "act_id = \"YOUR ACT ID HERE\"\n",
    "secret = \"-\"\n",
    "  \n",
    "facebook_api, account = get_ad_account(token, act_id, secret)"
   ]
  },
  {
   "cell_type": "code",
   "execution_count": 12,
   "metadata": {},
   "outputs": [],
   "source": [
    "#COMPLETE YOUT TOKEN\n",
    "token = str(df.iloc[3,1])\n",
    "#COMPLETE YOUR ACT ID\n",
    "act_id = str(df.iloc[0,1])\n",
    "secret = \"-\"\n",
    "  \n",
    "facebook_api, account = get_ad_account(token, act_id, secret)"
   ]
  },
  {
   "cell_type": "markdown",
   "metadata": {},
   "source": [
    "## EXAMPLES:"
   ]
  },
  {
   "cell_type": "markdown",
   "metadata": {},
   "source": [
    "### Collecting some interests id"
   ]
  },
  {
   "cell_type": "code",
   "execution_count": 13,
   "metadata": {},
   "outputs": [],
   "source": [
    "#In my case, the names are in Portuguese\n",
    "list_of_interests_to_search = ['feijoada', 'pretzel', 'pizza']"
   ]
  },
  {
   "cell_type": "code",
   "execution_count": 14,
   "metadata": {},
   "outputs": [
    {
     "name": "stdout",
     "output_type": "stream",
     "text": [
      "INTERESTS TO SEARCH:\n",
      "interest_id \t name \t audience_size \t type\n",
      "6003130694636\tpretzel\t6137568\tFood and drink\n",
      "6003668857118\tpizza\t441634838\tFood and drink\n"
     ]
    }
   ],
   "source": [
    "print(\"INTERESTS TO SEARCH:\")\n",
    "interests_dict = testInterestSearch(facebook_api, list_of_interests_to_search)"
   ]
  },
  {
   "cell_type": "code",
   "execution_count": 15,
   "metadata": {},
   "outputs": [
    {
     "data": {
      "text/plain": [
       "{'pretzel': {'id': '6003130694636',\n",
       "  'audience': 6137568,\n",
       "  'type': 'Food and drink'},\n",
       " 'pizza': {'id': '6003668857118',\n",
       "  'audience': 441634838,\n",
       "  'type': 'Food and drink'}}"
      ]
     },
     "execution_count": 15,
     "metadata": {},
     "output_type": "execute_result"
    }
   ],
   "source": [
    "interests_dict"
   ]
  },
  {
   "cell_type": "markdown",
   "metadata": {},
   "source": [
    "### Collecting some locations key"
   ]
  },
  {
   "cell_type": "code",
   "execution_count": 16,
   "metadata": {},
   "outputs": [],
   "source": [
    "#In my case, the names are in Portuguese\n",
    "list_of_locations_to_search = [('Brazil', 'country'), ('Germany', 'country'), ('Italy', 'country')]"
   ]
  },
  {
   "cell_type": "code",
   "execution_count": 17,
   "metadata": {},
   "outputs": [
    {
     "name": "stdout",
     "output_type": "stream",
     "text": [
      "LOCATIONS TO SEARCH:\n",
      "key \t name \t location_type\n",
      "BR\tBrazil\tcountry\n",
      "DE\tGermany\tcountry\n",
      "IT\tItaly\tcountry\n"
     ]
    }
   ],
   "source": [
    "print(\"LOCATIONS TO SEARCH:\")\n",
    "locations_dict = testSearchForLocationCode(facebook_api, list_of_locations_to_search)"
   ]
  },
  {
   "cell_type": "code",
   "execution_count": 18,
   "metadata": {},
   "outputs": [
    {
     "data": {
      "text/plain": [
       "{'Brazil': {'key': 'BR', 'type': 'country'},\n",
       " 'Germany': {'key': 'DE', 'type': 'country'},\n",
       " 'Italy': {'key': 'IT', 'type': 'country'}}"
      ]
     },
     "execution_count": 18,
     "metadata": {},
     "output_type": "execute_result"
    }
   ],
   "source": [
    "locations_dict"
   ]
  },
  {
   "cell_type": "code",
   "execution_count": null,
   "metadata": {},
   "outputs": [],
   "source": []
  },
  {
   "cell_type": "markdown",
   "metadata": {},
   "source": [
    "### Defining your target\n",
    "#### In this example we want all the Facebook users who are between 13 and 65+ years old."
   ]
  },
  {
   "cell_type": "code",
   "execution_count": 19,
   "metadata": {},
   "outputs": [],
   "source": [
    "targeting_spec = {\n",
    "    \"publisher_platforms\": [\"facebook\"], #facebook, instagram\n",
    "    \"facebook_positions\": [\"feed\"], #feed, right_hand_column, instream_video\n",
    "    \"age_min\": 13, #The min age default is 18, so I've changed to 13. The max age default is 65+\n",
    "    \"excluded_publisher_categories\": [],\n",
    "    \"excluded_publisher_list_ids\": [],\n",
    "    \"user_device\": [],\n",
    "    \"excluded_user_device\": [],\n",
    "    \"user_os\": [],\n",
    "    \"wireless_carrier\": [],\n",
    "    'behaviors': [],\n",
    "    'interests': [],\n",
    "    \"flexible_spec\": []        \n",
    "}"
   ]
  },
  {
   "cell_type": "markdown",
   "metadata": {},
   "source": [
    "### Collecting the audience in each country"
   ]
  },
  {
   "cell_type": "code",
   "execution_count": 20,
   "metadata": {},
   "outputs": [
    {
     "name": "stdout",
     "output_type": "stream",
     "text": [
      "Population in Brazil = 98800000\n",
      "Population in Germany = 22300000\n",
      "Population in Italy = 25600000\n"
     ]
    }
   ],
   "source": [
    "for location in locations_dict:\n",
    "    #Adding the information about the location of our target\n",
    "    if locations_dict[location][\"type\"] == \"country\":\n",
    "        targeting_spec[\"geo_locations\"] = {\"countries\":[locations_dict[location][\"key\"]]}\n",
    "    else:\n",
    "        targeting_spec[\"geo_locations\"] = {\"regions\":[{\"key\":locations_dict[location][\"key\"]}]}\n",
    "    \n",
    "    #We will not specify interests because we are interested on the country audience\n",
    "    targeting_spec[\"interests\"] = []\n",
    "        \n",
    "    audience_size = make_request(account,targeting_spec)\n",
    "    \n",
    "    print (\"Population in \" + str(location) + \" = \" + str(audience_size))\n",
    "    \n",
    "    locations_dict[location][\"audience\"] = audience_size"
   ]
  },
  {
   "cell_type": "code",
   "execution_count": 21,
   "metadata": {},
   "outputs": [
    {
     "data": {
      "text/plain": [
       "{'Brazil': {'key': 'BR', 'type': 'country', 'audience': 98800000},\n",
       " 'Germany': {'key': 'DE', 'type': 'country', 'audience': 22300000},\n",
       " 'Italy': {'key': 'IT', 'type': 'country', 'audience': 25600000}}"
      ]
     },
     "execution_count": 21,
     "metadata": {},
     "output_type": "execute_result"
    }
   ],
   "source": [
    "locations_dict"
   ]
  },
  {
   "cell_type": "markdown",
   "metadata": {},
   "source": [
    "### Collecting the audience in each interests for each country"
   ]
  },
  {
   "cell_type": "code",
   "execution_count": 22,
   "metadata": {},
   "outputs": [
    {
     "name": "stdout",
     "output_type": "stream",
     "text": [
      "Population in Brazil interested in pretzel = 34200\n",
      "Population in Brazil interested in pizza = 10100000\n",
      "Population in Germany interested in pretzel = 130500\n",
      "Population in Germany interested in pizza = 1400000\n",
      "Population in Italy interested in pretzel = 33800\n",
      "Population in Italy interested in pizza = 3800000\n"
     ]
    }
   ],
   "source": [
    "dict_info = dict()\n",
    "\n",
    "for location in locations_dict:\n",
    "    \n",
    "    dict_info[location] = dict()\n",
    "    \n",
    "    #Adding the information about the location of our target\n",
    "    if locations_dict[location][\"type\"] == \"country\":\n",
    "        targeting_spec[\"geo_locations\"] = {\"countries\":[locations_dict[location][\"key\"]]}\n",
    "    else:\n",
    "        targeting_spec[\"geo_locations\"] = {\"regions\":[{\"key\":locations_dict[location][\"key\"]}]}\n",
    "\n",
    "    for interest in interests_dict:\n",
    "        #Adding the information about the interest we are looking for\n",
    "        targeting_spec[\"interests\"] = [interests_dict[interest][\"id\"]]\n",
    "\n",
    "        audience_size = make_request(account,targeting_spec)\n",
    "        \n",
    "        print (\"Population in \" + str(location) + \" interested in \" + str(interest) + \" = \" + str(audience_size))\n",
    "        \n",
    "        #Wait 2 seconds between requests\n",
    "        time.sleep(2)\n",
    "\n",
    "        dict_info[location][interest] = (audience_size, float(audience_size/float(locations_dict[location][\"audience\"])))"
   ]
  },
  {
   "cell_type": "code",
   "execution_count": 23,
   "metadata": {},
   "outputs": [
    {
     "data": {
      "text/plain": [
       "{'Brazil': {'pretzel': (34200, 0.00034615384615384613),\n",
       "  'pizza': (10100000, 0.10222672064777327)},\n",
       " 'Germany': {'pretzel': (130500, 0.005852017937219731),\n",
       "  'pizza': (1400000, 0.06278026905829596)},\n",
       " 'Italy': {'pretzel': (33800, 0.0013203125), 'pizza': (3800000, 0.1484375)}}"
      ]
     },
     "execution_count": 23,
     "metadata": {},
     "output_type": "execute_result"
    }
   ],
   "source": [
    "dict_info"
   ]
  },
  {
   "cell_type": "code",
   "execution_count": null,
   "metadata": {},
   "outputs": [],
   "source": []
  },
  {
   "cell_type": "markdown",
   "metadata": {},
   "source": [
    "### Plots"
   ]
  },
  {
   "cell_type": "code",
   "execution_count": 24,
   "metadata": {},
   "outputs": [
    {
     "data": {
      "image/png": "[encoded data removed]",
      "text/plain": [
       "<Figure size 432x288 with 1 Axes>"
      ]
     },
     "metadata": {
      "needs_background": "light"
     },
     "output_type": "display_data"
    },
    {
     "data": {
      "image/png": "[encoded data removed]",
      "text/plain": [
       "<Figure size 432x288 with 1 Axes>"
      ]
     },
     "metadata": {
      "needs_background": "light"
     },
     "output_type": "display_data"
    },
    {
     "data": {
      "image/png": "[encoded data removed]",
      "text/plain": [
       "<Figure size 432x288 with 1 Axes>"
      ]
     },
     "metadata": {
      "needs_background": "light"
     },
     "output_type": "display_data"
    }
   ],
   "source": [
    "x_int = range(len(interests_dict))\n",
    "x = interests_dict.keys()\n",
    "\n",
    "for location in dict_info:\n",
    "    y, y_norm = zip(*dict_info[location].values())\n",
    "    \n",
    "    plt.bar(range(len(dict_info[location])), y_norm)\n",
    "    \n",
    "    plt.title(location)\n",
    "    plt.xticks(x_int, x)\n",
    "    plt.xlabel(\"interests\")\n",
    "    plt.ylim((0,0.5))\n",
    "    plt.ylabel(\"audience_ic/audience_c\")\n",
    "    \n",
    "    plt.show()"
   ]
  },
  {
   "cell_type": "code",
   "execution_count": null,
   "metadata": {},
   "outputs": [],
   "source": []
  }
 ],
 "metadata": {
  "kernelspec": {
   "display_name": "Python 3 (ipykernel)",
   "language": "python",
   "name": "python3"
  },
  "language_info": {
   "codemirror_mode": {
    "name": "ipython",
    "version": 3
   },
   "file_extension": ".py",
   "mimetype": "text/x-python",
   "name": "python",
   "nbconvert_exporter": "python",
   "pygments_lexer": "ipython3",
   "version": "3.9.12"
  }
 },
 "nbformat": 4,
 "nbformat_minor": 2
}
